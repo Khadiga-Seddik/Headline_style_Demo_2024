{
 "cells": [
  {
   "cell_type": "markdown",
   "id": "d177114f",
   "metadata": {},
   "source": [
    "# News for the demo"
   ]
  },
  {
   "cell_type": "code",
   "execution_count": 456,
   "id": "32bc5113",
   "metadata": {},
   "outputs": [],
   "source": [
    "import requests\n",
    "import csv\n",
    "from datetime import datetime\n",
    "import pandas as pd\n",
    "import numpy as np"
   ]
  },
  {
   "cell_type": "markdown",
   "id": "34d4c3c8",
   "metadata": {},
   "source": [
    "# NewsCatcher API settings"
   ]
  },
  {
   "cell_type": "code",
   "execution_count": 457,
   "id": "ba5238f6",
   "metadata": {},
   "outputs": [],
   "source": [
    "NEWS_API_KEY = \"\"\n",
    "API_URL = \"https://v3-api.newscatcherapi.com/api/search\""
   ]
  },
  {
   "cell_type": "markdown",
   "id": "6e43d00b",
   "metadata": {},
   "source": [
    "# 1- The featch function: fetch news from NewsCatcher API"
   ]
  },
  {
   "cell_type": "code",
   "execution_count": 458,
   "id": "a5561273",
   "metadata": {},
   "outputs": [],
   "source": [
    "\n",
    "# Fetch data from NewsCatcher API\n",
    "def fetch_news_articles_w_theme(params):\n",
    "\n",
    "    headers = {\n",
    "        'x-api-token': NEWS_API_KEY\n",
    "    }\n",
    "\n",
    "    response = requests.get(API_URL, headers=headers, params=params)\n",
    "\n",
    "    if response.status_code == 200:\n",
    "        return response.json().get('articles', [])\n",
    "    else:\n",
    "        print(f\"Error fetching data: {response.status_code}\")\n",
    "        return []\n"
   ]
  },
  {
   "cell_type": "markdown",
   "id": "b45bbf1c",
   "metadata": {},
   "source": [
    "# 2- Create csv file to save the news"
   ]
  },
  {
   "cell_type": "code",
   "execution_count": 459,
   "id": "1dddf1f5",
   "metadata": {},
   "outputs": [],
   "source": [
    "def create_articles_to_csv(filename):\n",
    "    # Define the CSV column headers\n",
    "\n",
    "#     style, Manipulated_title, and declarative boring_title will be added later\n",
    "    headers = ['aid', 'original_title', 'image_url', 'published_date', 'article_url', 'category', 'text']\n",
    "    # Open the CSV file for writing\n",
    "    with open(filename, mode='w', newline='', encoding='utf-8') as file:\n",
    "        writer = csv.writer(file)\n",
    "        # Write the headers\n",
    "        writer.writerow(headers)"
   ]
  },
  {
   "cell_type": "markdown",
   "id": "3790e520",
   "metadata": {},
   "source": [
    "# 3- A function to write the fetched news into csv file"
   ]
  },
  {
   "cell_type": "code",
   "execution_count": 460,
   "id": "313ffbe1",
   "metadata": {},
   "outputs": [],
   "source": [
    "global_aid = 0"
   ]
  },
  {
   "cell_type": "code",
   "execution_count": 461,
   "id": "786fa1a2",
   "metadata": {},
   "outputs": [],
   "source": [
    "# Write the articles to a CSV file\n",
    "def write_articles_to_csv(articles, filename, mytheme):\n",
    "    \n",
    "    #Open file in 'append' mode\n",
    "    with open(filename, mode='a', newline='') as file:\n",
    "        writer = csv.writer(file)\n",
    "        \n",
    "        global global_aid;\n",
    "        num_articels = 0\n",
    "\n",
    "        # Write article data rows\n",
    "        for article in articles:\n",
    "            global_aid +=1\n",
    "             \n",
    "            # Extract necessary fields\n",
    "            num_articels +=1\n",
    "            \n",
    "            original_title = article.get('title', 'N/A')\n",
    "            media = article.get('media', 'N/A')\n",
    "            published_date = article.get('published_date', 'N/A') #datetime.now().isoformat()\n",
    "            article_url = article.get('link', 'N/A') \n",
    "            text = article.get('content', 'N/A')\n",
    "            \n",
    "            nlp = article.get('nlp', 'N/A')\n",
    "            category = nlp.get('theme', mytheme)\n",
    "            category = category or mytheme # if nlp['theme'] is empty, put mytheme\n",
    "        \n",
    "            \n",
    "            # Write the row to the CSV file\n",
    "            writer.writerow([global_aid, original_title, media, published_date, article_url, category, text])\n",
    "\n",
    "        print(f\"{num_articels} articles have been written to {filename}\")\n",
    "        print (\"...\")\n"
   ]
  },
  {
   "cell_type": "markdown",
   "id": "1cc88ef6",
   "metadata": {},
   "source": [
    "# 4(a) Call the fetch function (using 'theme')"
   ]
  },
  {
   "cell_type": "code",
   "execution_count": null,
   "id": "bb2e6a35",
   "metadata": {},
   "outputs": [],
   "source": [
    "filename = '../data/articles_'+datetime.now().strftime(\"%Y-%m-%d %H:%M:%S\")+'.csv'\n",
    "create_articles_to_csv(filename)\n",
    "\n",
    "#try using theme (nlp feature)\n",
    "\n",
    "theme = ['Economics', 'Health', 'Politics', 'Science', 'Sports', 'Tech', 'Crime', 'Weather']\n",
    "\n",
    "for t in theme:\n",
    "\n",
    "    print (\"Category = \", t)\n",
    "\n",
    "    params = {\n",
    "        'q': '*',\n",
    "        'lang': 'no',  \n",
    "        'countries': 'NO',  \n",
    "        'sort_by': 'date',  \n",
    "        'page': 1,\n",
    "        'page_size': 100,\n",
    "        'include_nlp_data': True,\n",
    "        'word_count_min': 800,\n",
    "        'from_': '2024/11/06',\n",
    "        'to_': '2024/11/08',\n",
    "        'theme':t,\n",
    "    }\n",
    "        \n",
    "    articles = fetch_news_articles_w_theme(params) \n",
    "\n",
    "    if articles:\n",
    "        write_articles_to_csv(articles, filename, '')         \n",
    "    else:\n",
    "        print(\"No articles found\")\n",
    "        "
   ]
  },
  {
   "cell_type": "markdown",
   "id": "cfdb4241",
   "metadata": {},
   "source": [
    "# 4(b) Call the fetch function (WITHOUT 'theme')"
   ]
  },
  {
   "cell_type": "code",
   "execution_count": 483,
   "id": "b0789cf1",
   "metadata": {},
   "outputs": [
    {
     "name": "stdout",
     "output_type": "stream",
     "text": [
      "Category =  Politikk AND Venstre\n",
      "7 articles have been written to ../data/articles_2024-11-13 21:09:45.csv\n",
      "...\n"
     ]
    }
   ],
   "source": [
    "filename = '../data/articles_'+datetime.now().strftime(\"%Y-%m-%d %H:%M:%S\")+'.csv'\n",
    "create_articles_to_csv(filename)\n",
    "\n",
    "#try without 'theme'. try putting the category in the query itself\n",
    "query = ['Økonomi', 'Helse', 'Politikk', 'Vitenskap', 'Sport', 'Teknikk', 'Kriminalitet', 'Vær']\n",
    "# query = ['Politikk AND Venstre']\n",
    "\n",
    "\n",
    "for q in query:\n",
    "\n",
    "    print (\"Category = \", q)\n",
    "    \n",
    "    params = {\n",
    "        'q': q,\n",
    "        'lang': 'no',  \n",
    "        'countries': 'NO',  \n",
    "        'sort_by': 'date',  \n",
    "        'page': 1,\n",
    "#         'source': 'www.aftenposten.no',\n",
    "        'page_size': 100,\n",
    "        'include_nlp_data': True,\n",
    "        'word_count_min': 800,\n",
    "        'from_': '2024/11/11',\n",
    "        'to_': '2024/11/13',\n",
    "#         'is_headline': True\n",
    "    }\n",
    "    \n",
    "    articles = fetch_news_articles_w_theme(params) \n",
    "\n",
    "    if articles:\n",
    "        write_articles_to_csv(articles, filename , q)         \n",
    "    else:\n",
    "        print(\"No articles found\")"
   ]
  },
  {
   "cell_type": "markdown",
   "id": "98d40478",
   "metadata": {},
   "source": [
    "# See the fetched news"
   ]
  },
  {
   "cell_type": "code",
   "execution_count": 484,
   "id": "2d471b52",
   "metadata": {},
   "outputs": [
    {
     "data": {
      "text/plain": [
       "(7, 6)"
      ]
     },
     "execution_count": 484,
     "metadata": {},
     "output_type": "execute_result"
    }
   ],
   "source": [
    "df=pd.read_csv(filename,index_col=0)\n",
    "df.shape"
   ]
  },
  {
   "cell_type": "code",
   "execution_count": 485,
   "id": "de2c3b8c",
   "metadata": {},
   "outputs": [
    {
     "name": "stdout",
     "output_type": "stream",
     "text": [
      "../data/articles_2024-11-13 21:09:45.csv\n"
     ]
    }
   ],
   "source": [
    "print (filename)"
   ]
  },
  {
   "cell_type": "code",
   "execution_count": 486,
   "id": "7ed57480",
   "metadata": {},
   "outputs": [
    {
     "data": {
      "text/html": [
       "<div>\n",
       "<style scoped>\n",
       "    .dataframe tbody tr th:only-of-type {\n",
       "        vertical-align: middle;\n",
       "    }\n",
       "\n",
       "    .dataframe tbody tr th {\n",
       "        vertical-align: top;\n",
       "    }\n",
       "\n",
       "    .dataframe thead th {\n",
       "        text-align: right;\n",
       "    }\n",
       "</style>\n",
       "<table border=\"1\" class=\"dataframe\">\n",
       "  <thead>\n",
       "    <tr style=\"text-align: right;\">\n",
       "      <th></th>\n",
       "      <th>original_title</th>\n",
       "      <th>image_url</th>\n",
       "      <th>published_date</th>\n",
       "      <th>article_url</th>\n",
       "      <th>category</th>\n",
       "      <th>text</th>\n",
       "    </tr>\n",
       "    <tr>\n",
       "      <th>aid</th>\n",
       "      <th></th>\n",
       "      <th></th>\n",
       "      <th></th>\n",
       "      <th></th>\n",
       "      <th></th>\n",
       "      <th></th>\n",
       "    </tr>\n",
       "  </thead>\n",
       "  <tbody>\n",
       "    <tr>\n",
       "      <th>243</th>\n",
       "      <td>– Tror ikke Norge kommer til å innfri under kl...</td>\n",
       "      <td>https://www.dagsavisen.no/resizer/v2/66DGGJFF5...</td>\n",
       "      <td>2024-11-12 18:17:54</td>\n",
       "      <td>https://www.dagsavisen.no/nyheter/innenriks/20...</td>\n",
       "      <td>Politikk AND Venstre</td>\n",
       "      <td>– Det gir et uheldig signal når Jonas Gahr Stø...</td>\n",
       "    </tr>\n",
       "    <tr>\n",
       "      <th>244</th>\n",
       "      <td>Milliardpress mot Støre for økt Ukraina-hjelp</td>\n",
       "      <td>https://akamai.vgc.no/v2/images/fafed385-0260-...</td>\n",
       "      <td>2024-11-12 14:46:32</td>\n",
       "      <td>https://www.vg.no/nyheter/i/QM8B7Q/milliardpre...</td>\n",
       "      <td>Politics</td>\n",
       "      <td>Jens Stoltenbergs tidligere militære topprådgi...</td>\n",
       "    </tr>\n",
       "    <tr>\n",
       "      <th>245</th>\n",
       "      <td>Islam arbeider intenst for å overta svenske sk...</td>\n",
       "      <td>https://www.rights.no/wp-content/uploads/2020/...</td>\n",
       "      <td>2024-11-12 12:07:15</td>\n",
       "      <td>https://www.rights.no/2024/11/islam-arbeider-i...</td>\n",
       "      <td>Politikk AND Venstre</td>\n",
       "      <td>«Vi er maktesløse. Og ofte tenker jeg: De har ...</td>\n",
       "    </tr>\n",
       "    <tr>\n",
       "      <th>246</th>\n",
       "      <td>Ny sterk høyrebølge med Ap ved roret</td>\n",
       "      <td>https://g.acdn.no/obscura/API/dynamic/r1/ece5/...</td>\n",
       "      <td>2024-11-11 19:37:30</td>\n",
       "      <td>https://www.ostlendingen.no/ny-sterk-hoyrebolg...</td>\n",
       "      <td>Politikk AND Venstre</td>\n",
       "      <td>Kommentar Dette er en kommentar, skrevet av en...</td>\n",
       "    </tr>\n",
       "    <tr>\n",
       "      <th>247</th>\n",
       "      <td>Innvandring og bærekraft</td>\n",
       "      <td>https://www.rights.no/wp-content/uploads/2024/...</td>\n",
       "      <td>2024-11-11 13:14:33</td>\n",
       "      <td>https://www.rights.no/2024/11/innvandring-og-b...</td>\n",
       "      <td>Politikk AND Venstre</td>\n",
       "      <td>Alle vet hva FrP vil i innvandringspolitikken,...</td>\n",
       "    </tr>\n",
       "  </tbody>\n",
       "</table>\n",
       "</div>"
      ],
      "text/plain": [
       "                                        original_title  \\\n",
       "aid                                                      \n",
       "243  – Tror ikke Norge kommer til å innfri under kl...   \n",
       "244      Milliardpress mot Støre for økt Ukraina-hjelp   \n",
       "245  Islam arbeider intenst for å overta svenske sk...   \n",
       "246               Ny sterk høyrebølge med Ap ved roret   \n",
       "247                           Innvandring og bærekraft   \n",
       "\n",
       "                                             image_url       published_date  \\\n",
       "aid                                                                           \n",
       "243  https://www.dagsavisen.no/resizer/v2/66DGGJFF5...  2024-11-12 18:17:54   \n",
       "244  https://akamai.vgc.no/v2/images/fafed385-0260-...  2024-11-12 14:46:32   \n",
       "245  https://www.rights.no/wp-content/uploads/2020/...  2024-11-12 12:07:15   \n",
       "246  https://g.acdn.no/obscura/API/dynamic/r1/ece5/...  2024-11-11 19:37:30   \n",
       "247  https://www.rights.no/wp-content/uploads/2024/...  2024-11-11 13:14:33   \n",
       "\n",
       "                                           article_url              category  \\\n",
       "aid                                                                            \n",
       "243  https://www.dagsavisen.no/nyheter/innenriks/20...  Politikk AND Venstre   \n",
       "244  https://www.vg.no/nyheter/i/QM8B7Q/milliardpre...              Politics   \n",
       "245  https://www.rights.no/2024/11/islam-arbeider-i...  Politikk AND Venstre   \n",
       "246  https://www.ostlendingen.no/ny-sterk-hoyrebolg...  Politikk AND Venstre   \n",
       "247  https://www.rights.no/2024/11/innvandring-og-b...  Politikk AND Venstre   \n",
       "\n",
       "                                                  text  \n",
       "aid                                                     \n",
       "243  – Det gir et uheldig signal når Jonas Gahr Stø...  \n",
       "244  Jens Stoltenbergs tidligere militære topprådgi...  \n",
       "245  «Vi er maktesløse. Og ofte tenker jeg: De har ...  \n",
       "246  Kommentar Dette er en kommentar, skrevet av en...  \n",
       "247  Alle vet hva FrP vil i innvandringspolitikken,...  "
      ]
     },
     "execution_count": 486,
     "metadata": {},
     "output_type": "execute_result"
    }
   ],
   "source": [
    "df.head()"
   ]
  },
  {
   "cell_type": "markdown",
   "id": "0a9562b5",
   "metadata": {},
   "source": [
    "# Clean the data. Remove duplicates"
   ]
  },
  {
   "cell_type": "code",
   "execution_count": 487,
   "id": "d9941da0",
   "metadata": {},
   "outputs": [],
   "source": [
    "df_clean = df.drop_duplicates(subset=['original_title'])"
   ]
  },
  {
   "cell_type": "code",
   "execution_count": 488,
   "id": "25035b9b",
   "metadata": {},
   "outputs": [
    {
     "data": {
      "text/plain": [
       "(7, 6)"
      ]
     },
     "execution_count": 488,
     "metadata": {},
     "output_type": "execute_result"
    }
   ],
   "source": [
    "df_clean.shape"
   ]
  },
  {
   "cell_type": "code",
   "execution_count": 489,
   "id": "b4c692b9",
   "metadata": {},
   "outputs": [],
   "source": [
    "df_clean = df_clean.drop_duplicates(subset=['image_url'])"
   ]
  },
  {
   "cell_type": "code",
   "execution_count": 490,
   "id": "e7fcf2d0",
   "metadata": {},
   "outputs": [
    {
     "data": {
      "text/plain": [
       "(7, 6)"
      ]
     },
     "execution_count": 490,
     "metadata": {},
     "output_type": "execute_result"
    }
   ],
   "source": [
    "df_clean.shape"
   ]
  },
  {
   "cell_type": "code",
   "execution_count": 491,
   "id": "28dd9c95",
   "metadata": {},
   "outputs": [],
   "source": [
    "df_clean = df_clean.drop_duplicates(subset=['article_url'])"
   ]
  },
  {
   "cell_type": "code",
   "execution_count": 492,
   "id": "394ea9da",
   "metadata": {},
   "outputs": [
    {
     "data": {
      "text/plain": [
       "(7, 6)"
      ]
     },
     "execution_count": 492,
     "metadata": {},
     "output_type": "execute_result"
    }
   ],
   "source": [
    "df_clean.shape"
   ]
  },
  {
   "cell_type": "code",
   "execution_count": 494,
   "id": "c7f67261",
   "metadata": {},
   "outputs": [
    {
     "data": {
      "text/plain": [
       "Politikk AND Venstre    5\n",
       "Politics                2\n",
       "Name: category, dtype: int64"
      ]
     },
     "execution_count": 494,
     "metadata": {},
     "output_type": "execute_result"
    }
   ],
   "source": [
    "df_clean['category'].value_counts()"
   ]
  },
  {
   "cell_type": "markdown",
   "id": "66d43f66",
   "metadata": {},
   "source": [
    "# Check the categoreis of the news"
   ]
  },
  {
   "cell_type": "markdown",
   "id": "1594812b",
   "metadata": {},
   "source": [
    "# Select 3 random articles from each of 5 categories. OR 5 random articles from each of 3 categories (NOTE: change the parameter)"
   ]
  },
  {
   "cell_type": "code",
   "execution_count": 497,
   "id": "90e01273",
   "metadata": {},
   "outputs": [],
   "source": [
    "sampled_df = df[df['category'].isin(['Økonomi', 'Helse', 'Politikk', 'Sport', 'Politics'])].groupby('category').sample(n=3, random_state=1)\n",
    "# sampled_df = df[df['category'].isin(['Business', 'Vær'])].groupby('category').sample(n=3, random_state=1)\n",
    "# sampled_df = df_clean[(df_clean['category'] == 'Politikk AND Venstre')]"
   ]
  },
  {
   "cell_type": "code",
   "execution_count": 498,
   "id": "0ae1bcfa",
   "metadata": {},
   "outputs": [
    {
     "data": {
      "text/plain": [
       "Politikk AND Venstre    5\n",
       "Name: category, dtype: int64"
      ]
     },
     "execution_count": 498,
     "metadata": {},
     "output_type": "execute_result"
    }
   ],
   "source": [
    "sampled_df['category'].value_counts()"
   ]
  },
  {
   "cell_type": "code",
   "execution_count": 499,
   "id": "e2f423e3",
   "metadata": {},
   "outputs": [
    {
     "data": {
      "text/html": [
       "<div>\n",
       "<style scoped>\n",
       "    .dataframe tbody tr th:only-of-type {\n",
       "        vertical-align: middle;\n",
       "    }\n",
       "\n",
       "    .dataframe tbody tr th {\n",
       "        vertical-align: top;\n",
       "    }\n",
       "\n",
       "    .dataframe thead th {\n",
       "        text-align: right;\n",
       "    }\n",
       "</style>\n",
       "<table border=\"1\" class=\"dataframe\">\n",
       "  <thead>\n",
       "    <tr style=\"text-align: right;\">\n",
       "      <th></th>\n",
       "      <th>original_title</th>\n",
       "      <th>image_url</th>\n",
       "      <th>published_date</th>\n",
       "      <th>article_url</th>\n",
       "      <th>category</th>\n",
       "      <th>text</th>\n",
       "    </tr>\n",
       "    <tr>\n",
       "      <th>aid</th>\n",
       "      <th></th>\n",
       "      <th></th>\n",
       "      <th></th>\n",
       "      <th></th>\n",
       "      <th></th>\n",
       "      <th></th>\n",
       "    </tr>\n",
       "  </thead>\n",
       "  <tbody>\n",
       "    <tr>\n",
       "      <th>243</th>\n",
       "      <td>– Tror ikke Norge kommer til å innfri under kl...</td>\n",
       "      <td>https://www.dagsavisen.no/resizer/v2/66DGGJFF5...</td>\n",
       "      <td>2024-11-12 18:17:54</td>\n",
       "      <td>https://www.dagsavisen.no/nyheter/innenriks/20...</td>\n",
       "      <td>Politikk AND Venstre</td>\n",
       "      <td>– Det gir et uheldig signal når Jonas Gahr Stø...</td>\n",
       "    </tr>\n",
       "    <tr>\n",
       "      <th>245</th>\n",
       "      <td>Islam arbeider intenst for å overta svenske sk...</td>\n",
       "      <td>https://www.rights.no/wp-content/uploads/2020/...</td>\n",
       "      <td>2024-11-12 12:07:15</td>\n",
       "      <td>https://www.rights.no/2024/11/islam-arbeider-i...</td>\n",
       "      <td>Politikk AND Venstre</td>\n",
       "      <td>«Vi er maktesløse. Og ofte tenker jeg: De har ...</td>\n",
       "    </tr>\n",
       "    <tr>\n",
       "      <th>246</th>\n",
       "      <td>Ny sterk høyrebølge med Ap ved roret</td>\n",
       "      <td>https://g.acdn.no/obscura/API/dynamic/r1/ece5/...</td>\n",
       "      <td>2024-11-11 19:37:30</td>\n",
       "      <td>https://www.ostlendingen.no/ny-sterk-hoyrebolg...</td>\n",
       "      <td>Politikk AND Venstre</td>\n",
       "      <td>Kommentar Dette er en kommentar, skrevet av en...</td>\n",
       "    </tr>\n",
       "    <tr>\n",
       "      <th>247</th>\n",
       "      <td>Innvandring og bærekraft</td>\n",
       "      <td>https://www.rights.no/wp-content/uploads/2024/...</td>\n",
       "      <td>2024-11-11 13:14:33</td>\n",
       "      <td>https://www.rights.no/2024/11/innvandring-og-b...</td>\n",
       "      <td>Politikk AND Venstre</td>\n",
       "      <td>Alle vet hva FrP vil i innvandringspolitikken,...</td>\n",
       "    </tr>\n",
       "    <tr>\n",
       "      <th>248</th>\n",
       "      <td>Fornorskingspolitikken og nåtidas briller</td>\n",
       "      <td>https://g.acdn.no/obscura/API/dynamic/r1/ece5/...</td>\n",
       "      <td>2024-11-11 11:19:03</td>\n",
       "      <td>https://www.nordnorskdebatt.no/fornorskingspol...</td>\n",
       "      <td>Politikk AND Venstre</td>\n",
       "      <td>Kronikk Dette er en kronikk, skrevet av en eks...</td>\n",
       "    </tr>\n",
       "  </tbody>\n",
       "</table>\n",
       "</div>"
      ],
      "text/plain": [
       "                                        original_title  \\\n",
       "aid                                                      \n",
       "243  – Tror ikke Norge kommer til å innfri under kl...   \n",
       "245  Islam arbeider intenst for å overta svenske sk...   \n",
       "246               Ny sterk høyrebølge med Ap ved roret   \n",
       "247                           Innvandring og bærekraft   \n",
       "248          Fornorskingspolitikken og nåtidas briller   \n",
       "\n",
       "                                             image_url       published_date  \\\n",
       "aid                                                                           \n",
       "243  https://www.dagsavisen.no/resizer/v2/66DGGJFF5...  2024-11-12 18:17:54   \n",
       "245  https://www.rights.no/wp-content/uploads/2020/...  2024-11-12 12:07:15   \n",
       "246  https://g.acdn.no/obscura/API/dynamic/r1/ece5/...  2024-11-11 19:37:30   \n",
       "247  https://www.rights.no/wp-content/uploads/2024/...  2024-11-11 13:14:33   \n",
       "248  https://g.acdn.no/obscura/API/dynamic/r1/ece5/...  2024-11-11 11:19:03   \n",
       "\n",
       "                                           article_url              category  \\\n",
       "aid                                                                            \n",
       "243  https://www.dagsavisen.no/nyheter/innenriks/20...  Politikk AND Venstre   \n",
       "245  https://www.rights.no/2024/11/islam-arbeider-i...  Politikk AND Venstre   \n",
       "246  https://www.ostlendingen.no/ny-sterk-hoyrebolg...  Politikk AND Venstre   \n",
       "247  https://www.rights.no/2024/11/innvandring-og-b...  Politikk AND Venstre   \n",
       "248  https://www.nordnorskdebatt.no/fornorskingspol...  Politikk AND Venstre   \n",
       "\n",
       "                                                  text  \n",
       "aid                                                     \n",
       "243  – Det gir et uheldig signal når Jonas Gahr Stø...  \n",
       "245  «Vi er maktesløse. Og ofte tenker jeg: De har ...  \n",
       "246  Kommentar Dette er en kommentar, skrevet av en...  \n",
       "247  Alle vet hva FrP vil i innvandringspolitikken,...  \n",
       "248  Kronikk Dette er en kronikk, skrevet av en eks...  "
      ]
     },
     "execution_count": 499,
     "metadata": {},
     "output_type": "execute_result"
    }
   ],
   "source": [
    "sampled_df.head(15)"
   ]
  },
  {
   "cell_type": "code",
   "execution_count": 500,
   "id": "5f0f5fce",
   "metadata": {},
   "outputs": [
    {
     "name": "stderr",
     "output_type": "stream",
     "text": [
      "/var/folders/c5/ytjr01311kv_dj29wddc_rk40000gn/T/ipykernel_58890/2828706031.py:2: SettingWithCopyWarning: \n",
      "A value is trying to be set on a copy of a slice from a DataFrame.\n",
      "Try using .loc[row_indexer,col_indexer] = value instead\n",
      "\n",
      "See the caveats in the documentation: https://pandas.pydata.org/pandas-docs/stable/user_guide/indexing.html#returning-a-view-versus-a-copy\n",
      "  sampled_df['style'] = styles\n"
     ]
    }
   ],
   "source": [
    "# styles = ['Forward reference', 'Forward reference', 'Forward reference', 'Forward reference', 'Forward reference']\n",
    "# sampled_df['style'] = styles"
   ]
  },
  {
   "cell_type": "markdown",
   "id": "d09ba929",
   "metadata": {},
   "source": [
    "# Assign styles to the articles\n",
    "\n",
    "## We need to assign each style to the articles in such a way that:\n",
    "\n",
    "### Each category has a unique style assigned to it.\n",
    "### Each style is assigned an equal number of times across the articles.\n",
    "\n",
    "# UPDATE: This works if we have only three articles in each category.\n",
    "\n",
    "# The next cell works if I have only 3 categories with 5 articles in each category. So, use the later cell.\n"
   ]
  },
  {
   "cell_type": "code",
   "execution_count": 476,
   "id": "66fc9218",
   "metadata": {},
   "outputs": [],
   "source": [
    "styles = ['Metaphor', 'Forward reference', 'Question']\n",
    "categories = sampled_df['category'].unique()\n",
    "\n",
    "# Shuffle styles for randomness and repeat them to match the length of sampled_df\n",
    "np.random.shuffle(styles)\n",
    "style_assignments = np.tile(styles, len(sampled_df) // len(styles))\n",
    "\n",
    "# Assign styles to each category without repeating within each category\n",
    "sampled_df['style'] = np.nan\n",
    "for category in categories:\n",
    "    # Get the indices of articles in this category\n",
    "    category_indices = sampled_df[sampled_df['category'] == category].index\n",
    "    \n",
    "    # Randomly select styles and assign them\n",
    "    chosen_styles = np.random.choice(styles, len(category_indices), replace=False)\n",
    "    sampled_df.loc[category_indices, 'style'] = chosen_styles\n",
    "\n",
    "# Check that each style is equally distributed\n",
    "assert sampled_df['style'].value_counts().nunique() == 1, \"Styles are not equally distributed\"\n"
   ]
  },
  {
   "cell_type": "code",
   "execution_count": 379,
   "id": "1299f135",
   "metadata": {},
   "outputs": [
    {
     "name": "stdout",
     "output_type": "stream",
     "text": [
      "Forward reference    4\n",
      "Question             4\n",
      "Metaphor             4\n",
      "Name: style, dtype: int64\n"
     ]
    }
   ],
   "source": [
    "# import numpy as np\n",
    "\n",
    "# # Define styles and calculate how many times we need to repeat them\n",
    "# styles = ['Metaphor', 'Forward reference', 'Question']\n",
    "# num_styles_needed = len(sampled_df)\n",
    "\n",
    "# # Repeat the styles to cover all rows in sampled_df\n",
    "# repeated_styles = np.tile(styles, num_styles_needed // len(styles) + 1)[:num_styles_needed]\n",
    "\n",
    "# # Shuffle the repeated styles for randomness\n",
    "# np.random.shuffle(repeated_styles)\n",
    "\n",
    "# # Assign the shuffled styles to the 'style' column\n",
    "# sampled_df['style'] = repeated_styles\n",
    "\n",
    "# # Verify that the styles are equally distributed\n",
    "# print(sampled_df['style'].value_counts())\n"
   ]
  },
  {
   "cell_type": "code",
   "execution_count": 501,
   "id": "a03646e6",
   "metadata": {},
   "outputs": [
    {
     "data": {
      "text/html": [
       "<div>\n",
       "<style scoped>\n",
       "    .dataframe tbody tr th:only-of-type {\n",
       "        vertical-align: middle;\n",
       "    }\n",
       "\n",
       "    .dataframe tbody tr th {\n",
       "        vertical-align: top;\n",
       "    }\n",
       "\n",
       "    .dataframe thead th {\n",
       "        text-align: right;\n",
       "    }\n",
       "</style>\n",
       "<table border=\"1\" class=\"dataframe\">\n",
       "  <thead>\n",
       "    <tr style=\"text-align: right;\">\n",
       "      <th></th>\n",
       "      <th>original_title</th>\n",
       "      <th>image_url</th>\n",
       "      <th>published_date</th>\n",
       "      <th>article_url</th>\n",
       "      <th>category</th>\n",
       "      <th>text</th>\n",
       "      <th>style</th>\n",
       "    </tr>\n",
       "    <tr>\n",
       "      <th>aid</th>\n",
       "      <th></th>\n",
       "      <th></th>\n",
       "      <th></th>\n",
       "      <th></th>\n",
       "      <th></th>\n",
       "      <th></th>\n",
       "      <th></th>\n",
       "    </tr>\n",
       "  </thead>\n",
       "  <tbody>\n",
       "    <tr>\n",
       "      <th>243</th>\n",
       "      <td>– Tror ikke Norge kommer til å innfri under kl...</td>\n",
       "      <td>https://www.dagsavisen.no/resizer/v2/66DGGJFF5...</td>\n",
       "      <td>2024-11-12 18:17:54</td>\n",
       "      <td>https://www.dagsavisen.no/nyheter/innenriks/20...</td>\n",
       "      <td>Politikk AND Venstre</td>\n",
       "      <td>– Det gir et uheldig signal når Jonas Gahr Stø...</td>\n",
       "      <td>Forward reference</td>\n",
       "    </tr>\n",
       "    <tr>\n",
       "      <th>245</th>\n",
       "      <td>Islam arbeider intenst for å overta svenske sk...</td>\n",
       "      <td>https://www.rights.no/wp-content/uploads/2020/...</td>\n",
       "      <td>2024-11-12 12:07:15</td>\n",
       "      <td>https://www.rights.no/2024/11/islam-arbeider-i...</td>\n",
       "      <td>Politikk AND Venstre</td>\n",
       "      <td>«Vi er maktesløse. Og ofte tenker jeg: De har ...</td>\n",
       "      <td>Forward reference</td>\n",
       "    </tr>\n",
       "    <tr>\n",
       "      <th>246</th>\n",
       "      <td>Ny sterk høyrebølge med Ap ved roret</td>\n",
       "      <td>https://g.acdn.no/obscura/API/dynamic/r1/ece5/...</td>\n",
       "      <td>2024-11-11 19:37:30</td>\n",
       "      <td>https://www.ostlendingen.no/ny-sterk-hoyrebolg...</td>\n",
       "      <td>Politikk AND Venstre</td>\n",
       "      <td>Kommentar Dette er en kommentar, skrevet av en...</td>\n",
       "      <td>Forward reference</td>\n",
       "    </tr>\n",
       "    <tr>\n",
       "      <th>247</th>\n",
       "      <td>Innvandring og bærekraft</td>\n",
       "      <td>https://www.rights.no/wp-content/uploads/2024/...</td>\n",
       "      <td>2024-11-11 13:14:33</td>\n",
       "      <td>https://www.rights.no/2024/11/innvandring-og-b...</td>\n",
       "      <td>Politikk AND Venstre</td>\n",
       "      <td>Alle vet hva FrP vil i innvandringspolitikken,...</td>\n",
       "      <td>Forward reference</td>\n",
       "    </tr>\n",
       "    <tr>\n",
       "      <th>248</th>\n",
       "      <td>Fornorskingspolitikken og nåtidas briller</td>\n",
       "      <td>https://g.acdn.no/obscura/API/dynamic/r1/ece5/...</td>\n",
       "      <td>2024-11-11 11:19:03</td>\n",
       "      <td>https://www.nordnorskdebatt.no/fornorskingspol...</td>\n",
       "      <td>Politikk AND Venstre</td>\n",
       "      <td>Kronikk Dette er en kronikk, skrevet av en eks...</td>\n",
       "      <td>Forward reference</td>\n",
       "    </tr>\n",
       "  </tbody>\n",
       "</table>\n",
       "</div>"
      ],
      "text/plain": [
       "                                        original_title  \\\n",
       "aid                                                      \n",
       "243  – Tror ikke Norge kommer til å innfri under kl...   \n",
       "245  Islam arbeider intenst for å overta svenske sk...   \n",
       "246               Ny sterk høyrebølge med Ap ved roret   \n",
       "247                           Innvandring og bærekraft   \n",
       "248          Fornorskingspolitikken og nåtidas briller   \n",
       "\n",
       "                                             image_url       published_date  \\\n",
       "aid                                                                           \n",
       "243  https://www.dagsavisen.no/resizer/v2/66DGGJFF5...  2024-11-12 18:17:54   \n",
       "245  https://www.rights.no/wp-content/uploads/2020/...  2024-11-12 12:07:15   \n",
       "246  https://g.acdn.no/obscura/API/dynamic/r1/ece5/...  2024-11-11 19:37:30   \n",
       "247  https://www.rights.no/wp-content/uploads/2024/...  2024-11-11 13:14:33   \n",
       "248  https://g.acdn.no/obscura/API/dynamic/r1/ece5/...  2024-11-11 11:19:03   \n",
       "\n",
       "                                           article_url              category  \\\n",
       "aid                                                                            \n",
       "243  https://www.dagsavisen.no/nyheter/innenriks/20...  Politikk AND Venstre   \n",
       "245  https://www.rights.no/2024/11/islam-arbeider-i...  Politikk AND Venstre   \n",
       "246  https://www.ostlendingen.no/ny-sterk-hoyrebolg...  Politikk AND Venstre   \n",
       "247  https://www.rights.no/2024/11/innvandring-og-b...  Politikk AND Venstre   \n",
       "248  https://www.nordnorskdebatt.no/fornorskingspol...  Politikk AND Venstre   \n",
       "\n",
       "                                                  text              style  \n",
       "aid                                                                        \n",
       "243  – Det gir et uheldig signal når Jonas Gahr Stø...  Forward reference  \n",
       "245  «Vi er maktesløse. Og ofte tenker jeg: De har ...  Forward reference  \n",
       "246  Kommentar Dette er en kommentar, skrevet av en...  Forward reference  \n",
       "247  Alle vet hva FrP vil i innvandringspolitikken,...  Forward reference  \n",
       "248  Kronikk Dette er en kronikk, skrevet av en eks...  Forward reference  "
      ]
     },
     "execution_count": 501,
     "metadata": {},
     "output_type": "execute_result"
    }
   ],
   "source": [
    "sampled_df.head(15)"
   ]
  },
  {
   "cell_type": "markdown",
   "id": "2afea138",
   "metadata": {},
   "source": [
    "# Write the final set of news into a csv file"
   ]
  },
  {
   "cell_type": "code",
   "execution_count": 502,
   "id": "a04a754c",
   "metadata": {},
   "outputs": [],
   "source": [
    "duplicates = sampled_df.duplicated()"
   ]
  },
  {
   "cell_type": "code",
   "execution_count": 503,
   "id": "ad5dac8c",
   "metadata": {},
   "outputs": [
    {
     "data": {
      "text/plain": [
       "aid\n",
       "243    False\n",
       "245    False\n",
       "246    False\n",
       "247    False\n",
       "248    False\n",
       "dtype: bool"
      ]
     },
     "execution_count": 503,
     "metadata": {},
     "output_type": "execute_result"
    }
   ],
   "source": [
    "duplicates"
   ]
  },
  {
   "cell_type": "code",
   "execution_count": 504,
   "id": "f1b8d23e",
   "metadata": {},
   "outputs": [],
   "source": [
    "sampled_df.to_csv('../data/final_demo.csv')"
   ]
  },
  {
   "cell_type": "code",
   "execution_count": null,
   "id": "50b5b23f",
   "metadata": {},
   "outputs": [],
   "source": []
  }
 ],
 "metadata": {
  "kernelspec": {
   "display_name": "Python 3 (ipykernel)",
   "language": "python",
   "name": "python3"
  },
  "language_info": {
   "codemirror_mode": {
    "name": "ipython",
    "version": 3
   },
   "file_extension": ".py",
   "mimetype": "text/x-python",
   "name": "python",
   "nbconvert_exporter": "python",
   "pygments_lexer": "ipython3",
   "version": "3.9.13"
  }
 },
 "nbformat": 4,
 "nbformat_minor": 5
}
