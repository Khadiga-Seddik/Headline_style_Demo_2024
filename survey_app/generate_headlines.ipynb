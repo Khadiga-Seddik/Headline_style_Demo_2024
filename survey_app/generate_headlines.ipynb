{
 "cells": [
  {
   "cell_type": "code",
   "execution_count": 99,
   "id": "41609d0d",
   "metadata": {},
   "outputs": [],
   "source": [
    "from django.test import TestCase\n",
    "# from .choices import *\n",
    "import openai\n",
    "from openai import OpenAI\n",
    "import  choices\n",
    "import pandas as pd\n",
    "import numpy as np"
   ]
  },
  {
   "cell_type": "markdown",
   "id": "0d62a66e",
   "metadata": {},
   "source": [
    "# OpenAI key"
   ]
  },
  {
   "cell_type": "code",
   "execution_count": 100,
   "id": "1ed1489e",
   "metadata": {},
   "outputs": [],
   "source": [
    "openai.api_key = os.environ.get(\"OPENAI_API_KEY\")"
   ]
  },
  {
   "cell_type": "markdown",
   "id": "bd3db16d",
   "metadata": {},
   "source": [
    "# Get_headline_examples function"
   ]
  },
  {
   "cell_type": "code",
   "execution_count": 101,
   "id": "dec67b39",
   "metadata": {},
   "outputs": [],
   "source": [
    "def get_headline_examples(selected_style):\n",
    "    examples = {'Forward reference': ['Kinas Økonomiske Fremtid: Usikkerheten som Følger Etter Gullalderen', 'Denne appen endrer måten nordmenn handler mat på', 'Se prisforskjellen som overrasker mellom EX90 og XC90'],\n",
    "                'Metaphor': ['Kinas Økonomiske Skute i Uvær: Rentekutt som Redningsflåte', 'Frifor: Navigatoren i Ultrabehandlet Matens Labyrint', 'Fra Dinosaur til Lyn: Volvos Elektriske Revolusjon Ruller Inn'],\n",
    "                'Question': ['Kan Volvos EX90 virkelig spare deg for 293.000 kroner?', 'Er Kinas økonomiske gullalder over for godt?', 'Kan En App Revolusjonere Måten Vi Velger Mat På?']\n",
    "                }\n",
    "    \n",
    "    return examples [selected_style]"
   ]
  },
  {
   "cell_type": "markdown",
   "id": "8173d0c5",
   "metadata": {},
   "source": [
    "# Generate_headlines function"
   ]
  },
  {
   "cell_type": "code",
   "execution_count": 102,
   "id": "9c7849ab",
   "metadata": {},
   "outputs": [],
   "source": [
    "def generate_headlines(headline_style, article_text, type_of_hdl):\n",
    "    prompt = \"\"\n",
    "    msg = \"\"\n",
    "    examples= \"\"\n",
    "    \n",
    "    examples = get_headline_examples(headline_style)\n",
    "    print(\"Style manipulation = \", headline_style )\n",
    "    \n",
    "    style_user_prompt = f\"\"\"Create a headline for the provided article that is designed to maximize engagement and click-through rates. The user has expressed a preference for the headlines: {examples} which use the style: {headline_style}. Try to mimic the writing styles of these headlines to appeal to the user in the best possible way. Ensure that your headline captures the essence of the article while also applying a similar writing styles as the provided examples. Keep the headline to a maximum of 10 words. Article: {article_text}\"\"\"\n",
    "    style_system_msg = \"You are an AI skilled in generating headlines using different jornalistic headline styles. Your goal is to create engaging headlines in Norwegian language, adhering to specific guidelines designed to enhance curiosity and emotional engagement.\"\n",
    "    \n",
    "    \n",
    "    boring_user_prompt = f\"\"\"Create a boring, non-styled, and matter-of-fact headline for the provided article:{article_text} reflecting the main point of the article in a straightforward manner\"\"\"\n",
    "    boring_system_msg = \"You are a text summarizer. Your task is to generate a title for a given article in Norwegian language. The title should be boring, non-styled, and matter-of-fact, reflecting the main point of the article in a straightforward manner. Avoid using emotional language, opinions, or embellishments.\"\n",
    "\n",
    "    if type_of_hdl == 'styled':\n",
    "        prompt = style_user_prompt\n",
    "        msg = style_system_msg\n",
    "        \n",
    "    elif type_of_hdl == 'boring':\n",
    "        prompt = boring_user_prompt\n",
    "        msg = boring_system_msg\n",
    "        \n",
    "    \n",
    "    try:\n",
    "        # Adjusted temperature and top_p values as per the \"Creative Writing\" settings\n",
    "        completion = openai.chat.completions.create(\n",
    "            model=\"gpt-4-0125-preview\",\n",
    "            temperature=0.7,  # Adjust to requirements. Controls 'creativity'\n",
    "            top_p=0.8,  # Adjust to requirements 'Controls sampling'\n",
    "            messages=[\n",
    "                {\"role\": \"system\", \"content\": msg},\n",
    "                {\"role\": \"user\", \"content\": prompt}\n",
    "            ]\n",
    "        )\n",
    "\n",
    "        # Extract the generated headline from the response\n",
    "        generated_headline = completion.choices[0].message if completion.choices else \"No headline generated.\"\n",
    "        new_headline = generated_headline.content\n",
    "        cleaned_headline = new_headline.strip('\"')\n",
    "\n",
    "        return cleaned_headline\n",
    "    except Exception as e:\n",
    "        print(f\"Error generating headline: {e}\")\n",
    "        # return original_title  # Use original text as a fallback in case of an error\n"
   ]
  },
  {
   "cell_type": "markdown",
   "id": "182e50c3",
   "metadata": {},
   "source": [
    "# Main frunction"
   ]
  },
  {
   "cell_type": "code",
   "execution_count": 116,
   "id": "6c042964",
   "metadata": {},
   "outputs": [
    {
     "data": {
      "text/plain": [
       "(5, 7)"
      ]
     },
     "execution_count": 116,
     "metadata": {},
     "output_type": "execute_result"
    }
   ],
   "source": [
    "# -------------------------- main --------------------------\n",
    "df=pd.read_csv('../data/final_demo.csv',index_col=0)\n",
    "df.shape"
   ]
  },
  {
   "cell_type": "code",
   "execution_count": 117,
   "id": "c3e81566",
   "metadata": {},
   "outputs": [
    {
     "name": "stdout",
     "output_type": "stream",
     "text": [
      "Style manipulation =  Forward reference\n",
      "Style manipulation =  Forward reference\n",
      "Style manipulation =  Forward reference\n",
      "Style manipulation =  Forward reference\n",
      "Style manipulation =  Forward reference\n",
      "Style manipulation =  Forward reference\n",
      "Style manipulation =  Forward reference\n",
      "Style manipulation =  Forward reference\n",
      "Style manipulation =  Forward reference\n",
      "Style manipulation =  Forward reference\n",
      "['Støre dropper klimatoppmøtet: Et skritt tilbake for Norge?', 'Skolene Kapitulerer: Islam Tar Over i Klasserommet', 'Frp og Høyre Skyter Gullfuglen: Sjokkmålingen som Ryster Innlandet', 'Hva Koster Egentlig Innvandringen Norge?', 'Advarer mot nåtidsbriller i debatten om samenes fortid']\n"
     ]
    }
   ],
   "source": [
    "manipulated_titles = []\n",
    "boring_titles = []\n",
    "\n",
    "for index, row in df.iterrows():\n",
    "    \n",
    "    headline_s = generate_headlines(row['style'], row['text'], 'styled')\n",
    "    manipulated_titles.append(headline_s)\n",
    "    \n",
    "    headline_b = generate_headlines(row['style'], row['text'], 'boring')\n",
    "    boring_titles.append(headline_b)\n",
    "    \n",
    "    \n",
    "print (manipulated_titles)\n",
    "\n",
    "df['manipulated_title'] = manipulated_titles\n",
    "df['title'] = boring_titles"
   ]
  },
  {
   "cell_type": "code",
   "execution_count": 114,
   "id": "5c958bda",
   "metadata": {},
   "outputs": [
    {
     "data": {
      "text/html": [
       "<div>\n",
       "<style scoped>\n",
       "    .dataframe tbody tr th:only-of-type {\n",
       "        vertical-align: middle;\n",
       "    }\n",
       "\n",
       "    .dataframe tbody tr th {\n",
       "        vertical-align: top;\n",
       "    }\n",
       "\n",
       "    .dataframe thead th {\n",
       "        text-align: right;\n",
       "    }\n",
       "</style>\n",
       "<table border=\"1\" class=\"dataframe\">\n",
       "  <thead>\n",
       "    <tr style=\"text-align: right;\">\n",
       "      <th></th>\n",
       "      <th>original_title</th>\n",
       "      <th>image_url</th>\n",
       "      <th>published_date</th>\n",
       "      <th>article_url</th>\n",
       "      <th>category</th>\n",
       "      <th>text</th>\n",
       "      <th>style</th>\n",
       "      <th>manipulated_title</th>\n",
       "      <th>title</th>\n",
       "    </tr>\n",
       "    <tr>\n",
       "      <th>aid</th>\n",
       "      <th></th>\n",
       "      <th></th>\n",
       "      <th></th>\n",
       "      <th></th>\n",
       "      <th></th>\n",
       "      <th></th>\n",
       "      <th></th>\n",
       "      <th></th>\n",
       "      <th></th>\n",
       "    </tr>\n",
       "  </thead>\n",
       "  <tbody>\n",
       "    <tr>\n",
       "      <th>1</th>\n",
       "      <td>- Det er så kjedelig</td>\n",
       "      <td>https://labrador-www.kk.no/images/82180361.jpg...</td>\n",
       "      <td>2024-11-11 18:00:00</td>\n",
       "      <td>https://www.kk.no/mote/det-er-sa-kjedelig/8199...</td>\n",
       "      <td>Business</td>\n",
       "      <td>Kjendismerker\\nEr kjendisenes skjønnhetsmerker...</td>\n",
       "      <td>Forward reference</td>\n",
       "      <td>Er Kjendisenes Skjønnhetsmerker Pengene Verdt?...</td>\n",
       "      <td>Kjendisenes lansering av skjønnhetsmerker</td>\n",
       "    </tr>\n",
       "    <tr>\n",
       "      <th>3</th>\n",
       "      <td>Semb om trenerlegenden: – Det irriterer meg hv...</td>\n",
       "      <td>https://g.acdn.no/obscura/API/dynamic/r1/ece5/...</td>\n",
       "      <td>2024-11-11 06:39:14</td>\n",
       "      <td>https://www.tb.no/semb-om-trenerlegenden-det-i...</td>\n",
       "      <td>Business</td>\n",
       "      <td>ÅSGÅRDSTRAND (Nettavisen): – Jeg sto ikke med ...</td>\n",
       "      <td>Question</td>\n",
       "      <td>Vil Trumps valgseier endre global politikk igjen?</td>\n",
       "      <td>Nils Johan Semb diskuterer fotball, politikk o...</td>\n",
       "    </tr>\n",
       "    <tr>\n",
       "      <th>2</th>\n",
       "      <td>SoMe-spesialist</td>\n",
       "      <td>https://kampanje.com/contentassets/952a52b44fc...</td>\n",
       "      <td>2024-11-11 13:23:54</td>\n",
       "      <td>https://kampanje.com/jobb/Jobb-liste/2024/2024...</td>\n",
       "      <td>Business</td>\n",
       "      <td>Gjensidige er et ledende nordisk forsikringsse...</td>\n",
       "      <td>Metaphor</td>\n",
       "      <td>Gjensidige: Fyrtårnet i Forsikringshavets Fremtid</td>\n",
       "      <td>Gjensidige søker SoMe-spesialist for markedsfø...</td>\n",
       "    </tr>\n",
       "    <tr>\n",
       "      <th>10</th>\n",
       "      <td>Drapsgåten har splittet et helt lokalsamfunn</td>\n",
       "      <td>https://image.klikk.no/7470800.jpg?imageId=747...</td>\n",
       "      <td>2024-11-12 06:08:48</td>\n",
       "      <td>https://www.klikk.no/historie/krim/drapsgaten-...</td>\n",
       "      <td>Vær</td>\n",
       "      <td>FANT KJÆRESTEN: Karen Read ble tiltalt for dra...</td>\n",
       "      <td>Question</td>\n",
       "      <td>Ble Karen Read urettferdig anklaget for kjæres...</td>\n",
       "      <td>Karen Read frifunnet for drap på kjæresten ett...</td>\n",
       "    </tr>\n",
       "    <tr>\n",
       "      <th>7</th>\n",
       "      <td>Egil (27) skal redde Norge: – Haaland tjener s...</td>\n",
       "      <td>https://www.cdn.tv2.no/images?imageId=17163399...</td>\n",
       "      <td>2024-11-12 09:02:06</td>\n",
       "      <td>https://www.tv2.no/sport/egil-27-skal-redde-no...</td>\n",
       "      <td>Vær</td>\n",
       "      <td>Se Slovenia-Norge på TV 2 Direkte og Play tors...</td>\n",
       "      <td>Forward reference</td>\n",
       "      <td>Fra Haugesund til Helt: Selviks Uventede Reise...</td>\n",
       "      <td>Egil Selvik forbereder seg på landslagskamper ...</td>\n",
       "    </tr>\n",
       "    <tr>\n",
       "      <th>17</th>\n",
       "      <td>Bravida samler all aktivitet i Bergen i ikonis...</td>\n",
       "      <td>https://www.vvsaktuelt.no/bravida-samler-all-a...</td>\n",
       "      <td>2024-11-11 08:01:00</td>\n",
       "      <td>https://www.vvsaktuelt.no/bravida-samler-all-a...</td>\n",
       "      <td>Vær</td>\n",
       "      <td>Bildet: Bravidas regiondirektør i Vestland, Gi...</td>\n",
       "      <td>Metaphor</td>\n",
       "      <td>Bravidas Fusjon Skaper Et Landemerke: Sammen u...</td>\n",
       "      <td>Bravida og Thunestvedt flytter til felles kont...</td>\n",
       "    </tr>\n",
       "  </tbody>\n",
       "</table>\n",
       "</div>"
      ],
      "text/plain": [
       "                                        original_title  \\\n",
       "aid                                                      \n",
       "1                                 - Det er så kjedelig   \n",
       "3    Semb om trenerlegenden: – Det irriterer meg hv...   \n",
       "2                                      SoMe-spesialist   \n",
       "10        Drapsgåten har splittet et helt lokalsamfunn   \n",
       "7    Egil (27) skal redde Norge: – Haaland tjener s...   \n",
       "17   Bravida samler all aktivitet i Bergen i ikonis...   \n",
       "\n",
       "                                             image_url       published_date  \\\n",
       "aid                                                                           \n",
       "1    https://labrador-www.kk.no/images/82180361.jpg...  2024-11-11 18:00:00   \n",
       "3    https://g.acdn.no/obscura/API/dynamic/r1/ece5/...  2024-11-11 06:39:14   \n",
       "2    https://kampanje.com/contentassets/952a52b44fc...  2024-11-11 13:23:54   \n",
       "10   https://image.klikk.no/7470800.jpg?imageId=747...  2024-11-12 06:08:48   \n",
       "7    https://www.cdn.tv2.no/images?imageId=17163399...  2024-11-12 09:02:06   \n",
       "17   https://www.vvsaktuelt.no/bravida-samler-all-a...  2024-11-11 08:01:00   \n",
       "\n",
       "                                           article_url  category  \\\n",
       "aid                                                                \n",
       "1    https://www.kk.no/mote/det-er-sa-kjedelig/8199...  Business   \n",
       "3    https://www.tb.no/semb-om-trenerlegenden-det-i...  Business   \n",
       "2    https://kampanje.com/jobb/Jobb-liste/2024/2024...  Business   \n",
       "10   https://www.klikk.no/historie/krim/drapsgaten-...       Vær   \n",
       "7    https://www.tv2.no/sport/egil-27-skal-redde-no...       Vær   \n",
       "17   https://www.vvsaktuelt.no/bravida-samler-all-a...       Vær   \n",
       "\n",
       "                                                  text              style  \\\n",
       "aid                                                                         \n",
       "1    Kjendismerker\\nEr kjendisenes skjønnhetsmerker...  Forward reference   \n",
       "3    ÅSGÅRDSTRAND (Nettavisen): – Jeg sto ikke med ...           Question   \n",
       "2    Gjensidige er et ledende nordisk forsikringsse...           Metaphor   \n",
       "10   FANT KJÆRESTEN: Karen Read ble tiltalt for dra...           Question   \n",
       "7    Se Slovenia-Norge på TV 2 Direkte og Play tors...  Forward reference   \n",
       "17   Bildet: Bravidas regiondirektør i Vestland, Gi...           Metaphor   \n",
       "\n",
       "                                     manipulated_title  \\\n",
       "aid                                                      \n",
       "1    Er Kjendisenes Skjønnhetsmerker Pengene Verdt?...   \n",
       "3    Vil Trumps valgseier endre global politikk igjen?   \n",
       "2    Gjensidige: Fyrtårnet i Forsikringshavets Fremtid   \n",
       "10   Ble Karen Read urettferdig anklaget for kjæres...   \n",
       "7    Fra Haugesund til Helt: Selviks Uventede Reise...   \n",
       "17   Bravidas Fusjon Skaper Et Landemerke: Sammen u...   \n",
       "\n",
       "                                                 title  \n",
       "aid                                                     \n",
       "1            Kjendisenes lansering av skjønnhetsmerker  \n",
       "3    Nils Johan Semb diskuterer fotball, politikk o...  \n",
       "2    Gjensidige søker SoMe-spesialist for markedsfø...  \n",
       "10   Karen Read frifunnet for drap på kjæresten ett...  \n",
       "7    Egil Selvik forbereder seg på landslagskamper ...  \n",
       "17   Bravida og Thunestvedt flytter til felles kont...  "
      ]
     },
     "execution_count": 114,
     "metadata": {},
     "output_type": "execute_result"
    }
   ],
   "source": [
    "df.head(20)"
   ]
  },
  {
   "cell_type": "markdown",
   "id": "fe9ee38d",
   "metadata": {},
   "source": [
    "# Remember to remove the header to fill the data into the demo's databse"
   ]
  },
  {
   "cell_type": "code",
   "execution_count": 118,
   "id": "082a3ee3",
   "metadata": {},
   "outputs": [],
   "source": [
    "df.to_csv('../data/final_demo_manipulated.csv')"
   ]
  },
  {
   "cell_type": "code",
   "execution_count": null,
   "id": "2da51fa0",
   "metadata": {},
   "outputs": [],
   "source": []
  },
  {
   "cell_type": "code",
   "execution_count": null,
   "id": "a4704f8f",
   "metadata": {},
   "outputs": [],
   "source": []
  }
 ],
 "metadata": {
  "kernelspec": {
   "display_name": "Python 3 (ipykernel)",
   "language": "python",
   "name": "python3"
  },
  "language_info": {
   "codemirror_mode": {
    "name": "ipython",
    "version": 3
   },
   "file_extension": ".py",
   "mimetype": "text/x-python",
   "name": "python",
   "nbconvert_exporter": "python",
   "pygments_lexer": "ipython3",
   "version": "3.9.13"
  }
 },
 "nbformat": 4,
 "nbformat_minor": 5
}
